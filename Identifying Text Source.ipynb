{
 "cells": [
  {
   "cell_type": "code",
   "execution_count": 1,
   "metadata": {
    "collapsed": true
   },
   "outputs": [],
   "source": [
    "%matplotlib inline\n",
    "import numpy as np\n",
    "import pandas as pd\n",
    "import scipy\n",
    "import sklearn\n",
    "import spacy\n",
    "import matplotlib.pyplot as plt\n",
    "import re\n",
    "import os\n",
    "import PyPDF2\n",
    "from nltk.corpus import stopwords, gutenberg\n",
    "from collections import Counter"
   ]
  },
  {
   "cell_type": "code",
   "execution_count": 91,
   "metadata": {
    "collapsed": true
   },
   "outputs": [],
   "source": [
    "from sklearn import metrics, ensemble\n",
    "from itertools import cycle\n",
    "from sklearn.model_selection import train_test_split, cross_val_score\n",
    "from sklearn.preprocessing import MinMaxScaler, Normalizer\n",
    "from sklearn.cluster import KMeans, MeanShift, estimate_bandwidth, SpectralClustering, AffinityPropagation\n",
    "from sklearn.feature_extraction.text import TfidfVectorizer\n",
    "from sklearn.decomposition import TruncatedSVD\n",
    "from sklearn.pipeline import make_pipeline\n",
    "from sklearn.linear_model import LogisticRegression"
   ]
  },
  {
   "cell_type": "code",
   "execution_count": 2,
   "metadata": {
    "collapsed": true
   },
   "outputs": [],
   "source": [
    "# parse the texts in separate kernels\n",
    "nlp = spacy.load('en')"
   ]
  },
  {
   "cell_type": "markdown",
   "metadata": {},
   "source": [
    "## Load Data"
   ]
  },
  {
   "cell_type": "markdown",
   "metadata": {},
   "source": [
    "##### --Load Books"
   ]
  },
  {
   "cell_type": "code",
   "execution_count": 3,
   "metadata": {
    "collapsed": true
   },
   "outputs": [],
   "source": [
    "# function for standard text cleaning.\n",
    "def text_cleaner(text):\n",
    "    # visual inspection identifies a form of punctuation spaCy does not\n",
    "    text = re.sub(r'--',' ',text)\n",
    "    text = re.sub(\"[\\[].*?[\\]]\", \"\", text)\n",
    "    \n",
    "    return text"
   ]
  },
  {
   "cell_type": "code",
   "execution_count": 4,
   "metadata": {
    "collapsed": true
   },
   "outputs": [],
   "source": [
    "# load m texts from the directory\n",
    "def load_book(sample):\n",
    "\n",
    "    content_text = []\n",
    "    \n",
    "    for m in sample:\n",
    "        file = open(m, encoding = \"utf8\").read()\n",
    "        file = text_cleaner(file)\n",
    "\n",
    "        # there are many '***' in all the texts, after spliting them, there will multiple values    \n",
    "        file = file.split('***')   \n",
    "        max_ = 0\n",
    "        for i,v in enumerate(file):\n",
    "            if len(v) > max_:\n",
    "                max_ = len(v)\n",
    "                text = i\n",
    "\n",
    "        content_text.append(file[text])\n",
    "        \n",
    "    return pd.DataFrame({'text': content_text})"
   ]
  },
  {
   "cell_type": "code",
   "execution_count": 5,
   "metadata": {
    "collapsed": true
   },
   "outputs": [],
   "source": [
    "# locate 30 smallest texts files to save time when running the dataset\n",
    "def find_book(sample):\n",
    "    leng = []\n",
    "    for i in range(len(sample)):\n",
    "        leng.append(len(sample['text'][i]))\n",
    "            \n",
    "    # create column for length of text and find 30 shortest length texts\n",
    "    sample['text_len'] = leng\n",
    "    sample = sample.sort_values(['text_len'], ascending = True).head(30)\n",
    "    sample.reset_index(drop = ['index'], inplace = True)\n",
    "    \n",
    "    return sample"
   ]
  },
  {
   "cell_type": "markdown",
   "metadata": {},
   "source": [
    "##### --Load Articles"
   ]
  },
  {
   "cell_type": "code",
   "execution_count": 6,
   "metadata": {
    "collapsed": true
   },
   "outputs": [],
   "source": [
    "# create function to read pdf files\n",
    "def read_pdf(sample):\n",
    "    # creating a pdf file object\n",
    "    pdfFileObj = open(sample , 'rb')\n",
    "\n",
    "    # creating a pdf reader object\n",
    "    pdfReader = PyPDF2.PdfFileReader(pdfFileObj)\n",
    "\n",
    "    content = []\n",
    "    for i in range(pdfReader.numPages):\n",
    "        # creating a page object\n",
    "        pageObj = pdfReader.getPage(i)\n",
    "\n",
    "        # extracting text from page\n",
    "        text = pageObj.extractText()\n",
    "\n",
    "        # append each page to an array\n",
    "        content.append(text)\n",
    "\n",
    "    # closing the pdf file object\n",
    "    pdfFileObj.close()\n",
    "    \n",
    "    return content"
   ]
  },
  {
   "cell_type": "code",
   "execution_count": 7,
   "metadata": {
    "collapsed": true,
    "scrolled": true
   },
   "outputs": [],
   "source": [
    "# create a function to clean and process pdf files\n",
    "def load_pdf(sample):\n",
    "    \n",
    "    content_text = []\n",
    "    leng = []\n",
    "    \n",
    "    for n in sample:\n",
    "        file = read_pdf(n)\n",
    "      \n",
    "        # there is a reference section in each articles, want to remove them\n",
    "        file = str(file).split('References')\n",
    "        max_ = 0\n",
    "        for i,v in enumerate(file):\n",
    "            if len(v) > max_:\n",
    "                max_ = len(v)\n",
    "                text = i\n",
    "\n",
    "        content_text.append(file[text])\n",
    "        leng.append(len(file[text]))\n",
    "        \n",
    "    return pd.DataFrame({'text': content_text, 'text_len': leng})\n",
    "        "
   ]
  },
  {
   "cell_type": "markdown",
   "metadata": {},
   "source": [
    "##### -- Call Data"
   ]
  },
  {
   "cell_type": "code",
   "execution_count": 8,
   "metadata": {
    "collapsed": true
   },
   "outputs": [],
   "source": [
    "# load 30 fiction books\n",
    "os.chdir('C:/Users/Mike/AnacondaProjects/Unit 4/Capstone/fiction')\n",
    "fiction = os.listdir()\n",
    "\n",
    "# load 30 texts from fiction folder\n",
    "fict_sample = load_book(fiction)\n",
    "fict_sample = find_book(fict_sample)\n",
    "\n",
    "# assign a category \n",
    "fict_sample['category'] = pd.Series(['fiction'] * fict_sample.shape[0])"
   ]
  },
  {
   "cell_type": "code",
   "execution_count": 9,
   "metadata": {
    "collapsed": true
   },
   "outputs": [],
   "source": [
    "# load 30 non fiction books\n",
    "os.chdir('C:/Users/Mike/AnacondaProjects/Unit 4/Capstone/non_fiction')\n",
    "nonfict = os.listdir()\n",
    "\n",
    "# load 30 texts from non-fiction folder\n",
    "nonfict_sample = load_book(nonfict)\n",
    "nonfict_sample = find_book(nonfict_sample)\n",
    "\n",
    "#assign a category\n",
    "nonfict_sample['category'] = pd.Series(['non_fiction'] * nonfict_sample.shape[0])"
   ]
  },
  {
   "cell_type": "code",
   "execution_count": 10,
   "metadata": {},
   "outputs": [
    {
     "name": "stderr",
     "output_type": "stream",
     "text": [
      "PdfReadWarning: Xref table not zero-indexed. ID numbers for objects will be corrected. [pdf.py:1736]\n"
     ]
    }
   ],
   "source": [
    "# load 40 articles\n",
    "os.chdir('C:/Users/Mike/AnacondaProjects/Unit 4/Capstone/articles')\n",
    "articles = os.listdir()\n",
    "\n",
    "# load 40 texts from article folder\n",
    "art_sample = load_pdf(articles)\n",
    "\n",
    "#assign a category\n",
    "art_sample['category'] = pd.Series(['article'] * art_sample.shape[0])"
   ]
  },
  {
   "cell_type": "markdown",
   "metadata": {},
   "source": [
    "## Clean and Process Data"
   ]
  },
  {
   "cell_type": "markdown",
   "metadata": {},
   "source": [
    "    feature ideas: length of sentence, and number of paragraph"
   ]
  },
  {
   "cell_type": "code",
   "execution_count": 11,
   "metadata": {
    "collapsed": true,
    "scrolled": true
   },
   "outputs": [],
   "source": [
    "# function to read the text by paragraph in articles\n",
    "def book_para(text):\n",
    "    para = []\n",
    "    \n",
    "    text = text.split('\\n\\n')        #indicator of paragraph in books\n",
    "    for i in range(len(text)):\n",
    "        if text[i] != '':\n",
    "            para.append(text[i])\n",
    "            \n",
    "    return para"
   ]
  },
  {
   "cell_type": "code",
   "execution_count": 12,
   "metadata": {
    "collapsed": true
   },
   "outputs": [],
   "source": [
    "# function to read the text by paragraph in articles\n",
    "def art_para(text):\n",
    "    para = []\n",
    "    \n",
    "    indi_1 = text.split('.\\\\n')       # indicators of paragraph in articles\n",
    "    indi_2 = text.split('\\\\n')        # if first indicator is wrong, use the second one\n",
    "    \n",
    "    if len(indi_1) == 1:\n",
    "        text = indi_2\n",
    "    else:\n",
    "        text = indi_1\n",
    "    \n",
    "    for i in text:\n",
    "        if i != '':\n",
    "            para.append(i)\n",
    "            \n",
    "    return para\n",
    "    "
   ]
  },
  {
   "cell_type": "code",
   "execution_count": 13,
   "metadata": {
    "collapsed": true
   },
   "outputs": [],
   "source": [
    "# Fictions\n",
    "# find fiction paragraph and length of paragraph\n",
    "paragraph = []\n",
    "para_len = []\n",
    "\n",
    "# divide text into arrays of paragraph\n",
    "for i in fict_sample['text']:\n",
    "    paragraph.append(book_para(i))\n",
    "    para_len.append(len(book_para(i)))\n",
    "    \n",
    "# add features    \n",
    "fict_sample['paragraph'] = paragraph\n",
    "fict_sample['para_len'] = para_len"
   ]
  },
  {
   "cell_type": "code",
   "execution_count": 14,
   "metadata": {
    "collapsed": true
   },
   "outputs": [],
   "source": [
    "# Non-Fictions\n",
    "# find nonfiction paragraph and length of paragraph\n",
    "paragraph = []\n",
    "para_len = []\n",
    "\n",
    "# divide text into arrays of paragraph\n",
    "for i in nonfict_sample['text']:\n",
    "    paragraph.append(book_para(i))\n",
    "    para_len.append(len(book_para(i)))\n",
    "\n",
    "# add features  \n",
    "nonfict_sample['paragraph'] = paragraph\n",
    "nonfict_sample['para_len'] = para_len"
   ]
  },
  {
   "cell_type": "code",
   "execution_count": 15,
   "metadata": {
    "collapsed": true,
    "scrolled": false
   },
   "outputs": [],
   "source": [
    "# Articles\n",
    "# find article paragraph and length of paragraph\n",
    "paragraph = []\n",
    "para_len = []\n",
    "\n",
    "# divide text into arrays of paragraph\n",
    "for i in art_sample['text']:\n",
    "    paragraph.append(art_para(i))\n",
    "    para_len.append(len(art_para(i)))\n",
    "\n",
    "# add features      \n",
    "art_sample['paragraph'] = paragraph\n",
    "art_sample['para_len'] = para_len"
   ]
  },
  {
   "cell_type": "code",
   "execution_count": 152,
   "metadata": {
    "collapsed": true
   },
   "outputs": [],
   "source": [
    "# concatenate all 3 dataframes and then randomly reserve 25% of the data\n",
    "all_sample = pd.concat([fict_sample, nonfict_sample, art_sample])\n",
    "all_sample.reset_index(drop = ['index'], inplace = True)\n",
    "all_sample.drop(['text'], axis = 1, inplace = True)\n",
    "\n",
    "# normalize data\n",
    "scaler = MinMaxScaler()\n",
    "norm_value = pd.DataFrame(scaler.fit_transform(all_sample[['text_len', 'para_len']]))\n",
    "all_sample['text_len'] = norm_value[0]\n",
    "all_sample['para_len'] = norm_value[1]\n",
    "\n",
    "# ideally to have the similar proportion of classes in training and test set\n",
    "df_train, df_test = train_test_split(all_sample, test_size = 0.25)"
   ]
  },
  {
   "cell_type": "markdown",
   "metadata": {},
   "source": [
    "#### --clusters"
   ]
  },
  {
   "cell_type": "markdown",
   "metadata": {},
   "source": [
    "    can use text_len and para_len and category for cluster to display a graph"
   ]
  },
  {
   "cell_type": "code",
   "execution_count": 185,
   "metadata": {
    "collapsed": true
   },
   "outputs": [],
   "source": [
    "# extract text len and para len for cluster\n",
    "# reset the index for df_train\n",
    "df_train.reset_index(drop = ['index'], inplace = True)\n",
    "df_cluster = df_train.loc[:, df_train.columns.isin(['text_len', 'para_len'])]"
   ]
  },
  {
   "cell_type": "code",
   "execution_count": 186,
   "metadata": {},
   "outputs": [
    {
     "data": {
      "image/png": "[encoded data removed]",
      "text/plain": [
       "<matplotlib.figure.Figure at 0x26be99ef048>"
      ]
     },
     "metadata": {},
     "output_type": "display_data"
    }
   ],
   "source": [
    "# declare and fit model\n",
    "km = KMeans(n_clusters = 3).fit(df_cluster.values)\n",
    "\n",
    "# extract cluster assignments for data points\n",
    "km_labels = km.labels_\n",
    "km_cluster_centers = km.cluster_centers_\n",
    "\n",
    "# Plot the solution.\n",
    "plt.scatter(df_cluster.values[:, 0], df_cluster.values[:, 1], c = km_labels)\n",
    "plt.show()"
   ]
  },
  {
   "cell_type": "code",
   "execution_count": 187,
   "metadata": {},
   "outputs": [
    {
     "name": "stdout",
     "output_type": "stream",
     "text": [
      "Check the prediction for KMeans:\n",
      "col_0   0   1   2\n",
      "row_0            \n",
      "0       0   0  26\n",
      "1       0  20   0\n",
      "2      29   0   0\n"
     ]
    }
   ],
   "source": [
    "# check the predictions for KMeans\n",
    "km_pred = km.fit_predict(df_cluster.values)\n",
    "\n",
    "print('Check the prediction for KMeans:')\n",
    "print(pd.crosstab(km_labels, km_pred))"
   ]
  },
  {
   "cell_type": "code",
   "execution_count": 156,
   "metadata": {},
   "outputs": [
    {
     "name": "stdout",
     "output_type": "stream",
     "text": [
      "Number of Clusters: 2\n"
     ]
    },
    {
     "data": {
      "image/png": "[encoded data removed]",
      "text/plain": [
       "<matplotlib.figure.Figure at 0x26be0262278>"
      ]
     },
     "metadata": {},
     "output_type": "display_data"
    }
   ],
   "source": [
    "#set bandwidth\n",
    "bandwidth = estimate_bandwidth(df_cluster.values, quantile = 0.45)       # quantile = 0.5 has 4 clusters\n",
    "\n",
    "# declare and fit model\n",
    "ms = MeanShift(bandwidth = bandwidth, bin_seeding = True).fit(df_cluster.values)\n",
    "\n",
    "# extract cluster assignments for data points\n",
    "ms_labels = ms.labels_\n",
    "ms_cluster_centers = ms.cluster_centers_\n",
    "\n",
    "# count number of clusters\n",
    "n_clusters = len(np.unique(ms_labels))\n",
    "print('Number of Clusters: {}'.format(n_clusters))\n",
    "\n",
    "# Plot the solution.\n",
    "plt.scatter(df_cluster.values[:, 0], df_cluster.values[:, 1], c = ms_labels)\n",
    "plt.show()"
   ]
  },
  {
   "cell_type": "code",
   "execution_count": 157,
   "metadata": {},
   "outputs": [
    {
     "name": "stdout",
     "output_type": "stream",
     "text": [
      "Check the prediction for Mean-Shift:\n",
      "col_0   0   1\n",
      "row_0        \n",
      "0      49   0\n",
      "1       0  26\n"
     ]
    }
   ],
   "source": [
    "# check the predictions\n",
    "ms_pred = ms.fit_predict(df_cluster.values)\n",
    "\n",
    "print('Check the prediction for Mean-Shift:')\n",
    "print(pd.crosstab(ms_labels, ms_pred))"
   ]
  },
  {
   "cell_type": "code",
   "execution_count": 158,
   "metadata": {
    "scrolled": true
   },
   "outputs": [
    {
     "data": {
      "image/png": "[encoded data removed]",
      "text/plain": [
       "<matplotlib.figure.Figure at 0x26be9a8aac8>"
      ]
     },
     "metadata": {},
     "output_type": "display_data"
    }
   ],
   "source": [
    "# set number of clusters to 3\n",
    "n_clusters = 3\n",
    "\n",
    "# declare and fit the model.\n",
    "sc = SpectralClustering(n_clusters = n_clusters).fit(df_cluster.values)\n",
    "\n",
    "# extract cluster assignments for data points\n",
    "sc_labels = sc.labels_\n",
    "\n",
    "#Graph results.\n",
    "plt.scatter(df_cluster.values[:, 0], df_cluster.values[:, 1], c = sc_labels)\n",
    "plt.show()"
   ]
  },
  {
   "cell_type": "code",
   "execution_count": 159,
   "metadata": {},
   "outputs": [
    {
     "name": "stdout",
     "output_type": "stream",
     "text": [
      "Check the prediction for Spectral Cluster:\n",
      "col_0   0   1   2\n",
      "row_0            \n",
      "0       0   0  15\n",
      "1       0  34   0\n",
      "2      26   0   0\n"
     ]
    }
   ],
   "source": [
    "# predicted clusters.\n",
    "sc_pred = sc.fit_predict(df_cluster.values)\n",
    "\n",
    "print('Check the prediction for Spectral Cluster:')\n",
    "print(pd.crosstab(sc_labels, sc_pred))"
   ]
  },
  {
   "cell_type": "code",
   "execution_count": 160,
   "metadata": {},
   "outputs": [
    {
     "name": "stdout",
     "output_type": "stream",
     "text": [
      "Estimated number of clusters: 6\n"
     ]
    }
   ],
   "source": [
    "# declare and fit model\n",
    "af = AffinityPropagation().fit(df_cluster.values)\n",
    "\n",
    "# the number of clusters and cluster assignments for each data point.\n",
    "cluster_centers_indices = af.cluster_centers_indices_\n",
    "n_clusters_ = len(cluster_centers_indices)\n",
    "af_labels = af.labels_\n",
    "\n",
    "print('Estimated number of clusters: {}'.format(n_clusters_))"
   ]
  },
  {
   "cell_type": "code",
   "execution_count": 161,
   "metadata": {},
   "outputs": [
    {
     "data": {
      "image/png": "[encoded data removed]",
      "text/plain": [
       "<matplotlib.figure.Figure at 0x26bd898f7f0>"
      ]
     },
     "metadata": {},
     "output_type": "display_data"
    }
   ],
   "source": [
    "# cycle through each cluster and graph them with a center point for the\n",
    "# exemplar and lines from the exemplar to each data point in the cluster.\n",
    "plt.clf()\n",
    "\n",
    "colors = cycle('bgrcmykbgrcmykbgrcmykbgrcmyk')\n",
    "for k, col in zip(range(n_clusters_), colors):\n",
    "    class_members = af_labels == k\n",
    "    cluster_center = df_cluster.values[cluster_centers_indices[k]]\n",
    "    plt.plot(df_cluster.values[class_members, 0], df_cluster.values[class_members, 1], col + '.')\n",
    "    plt.plot(cluster_center[0],\n",
    "             cluster_center[1],\n",
    "             'o',\n",
    "             markerfacecolor=col,\n",
    "             markeredgecolor='k')\n",
    "    for x in df_cluster.values[class_members]:\n",
    "        plt.plot([cluster_center[0], x[0]], [cluster_center[1], x[1]], col)\n",
    "\n",
    "plt.title('Estimated number of clusters: {}'.format(n_clusters_))\n",
    "plt.show()"
   ]
  },
  {
   "cell_type": "code",
   "execution_count": 162,
   "metadata": {},
   "outputs": [
    {
     "name": "stdout",
     "output_type": "stream",
     "text": [
      "Check the prediction for Affinity Propagation:\n",
      "col_0  0   1  2   3  4   5\n",
      "row_0                     \n",
      "0      8   0  0   0  0   0\n",
      "1      0  29  0   0  0   0\n",
      "2      0   0  8   0  0   0\n",
      "3      0   0  0  11  0   0\n",
      "4      0   0  0   0  3   0\n",
      "5      0   0  0   0  0  16\n"
     ]
    }
   ],
   "source": [
    "# predicted clusters.\n",
    "af_pred = af.fit_predict(df_cluster.values)\n",
    "\n",
    "print('Check the prediction for Affinity Propagation:')\n",
    "print(pd.crosstab(af_labels, af_pred))"
   ]
  },
  {
   "cell_type": "markdown",
   "metadata": {},
   "source": [
    "##### decided to use KMeans\n",
    "    I chose KMeans because \n",
    "        => mean-shift is not consistently 3 clusters \n",
    "        => The distribution of mean-shift and spectral cluster is not what I want\n",
    "        => affinity propagation has too many clusters"
   ]
  },
  {
   "cell_type": "markdown",
   "metadata": {},
   "source": [
    "#### --tfidf"
   ]
  },
  {
   "cell_type": "code",
   "execution_count": 163,
   "metadata": {
    "collapsed": true
   },
   "outputs": [],
   "source": [
    "# create a function to divide the paragraphs into individuals rows\n",
    "def divide_paragraph(dat):\n",
    "    df = pd.DataFrame()\n",
    "    \n",
    "    for i, v in enumerate(dat['paragraph']):\n",
    "        \n",
    "        # create a temporary dataframe to store each row's paragraph\n",
    "        df_temp = pd.DataFrame({'paragraph': v})\n",
    "        df_temp['text_len'] = pd.Series([dat['text_len'][i]] * df_temp.shape[0])\n",
    "        df_temp['para_len'] = pd.Series([dat['para_len'][i]] * df_temp.shape[0])\n",
    "        df_temp['category'] = pd.Series([dat['category'][i]] * df_temp.shape[0])\n",
    "        df_temp['labels'] = pd.Series([dat['labels'][i]] * df_temp.shape[0])\n",
    "        \n",
    "        df = pd.concat([df, df_temp])\n",
    "        \n",
    "    #reset index\n",
    "    df.reset_index(drop = ['index'], inplace = True)\n",
    "        \n",
    "    return(df)"
   ]
  },
  {
   "cell_type": "code",
   "execution_count": 164,
   "metadata": {
    "collapsed": true
   },
   "outputs": [],
   "source": [
    "# create a function for tf-idf  \n",
    "def tfidf(dat):\n",
    "    vectorizer = TfidfVectorizer(max_df = 0.5, # drop words that occur in more than half the paragraphs\n",
    "                                 min_df = 50, # only use words that appear min_df times\n",
    "                                 stop_words = 'english', \n",
    "                                 lowercase = True, #convert everything to lower case \n",
    "                                 use_idf = True, #we definitely want to use inverse document frequencies in our weighting\n",
    "                                 norm = u'l2', #Applies a correction factor so that longer paragraphs and shorter paragraphs get treated equally\n",
    "                                 smooth_idf = True #Adds 1 to all document frequencies, as if an extra document existed that used every word once.  Prevents divide-by-zero errors\n",
    "                                )\n",
    "\n",
    "\n",
    "    #Applying the vectorizer\n",
    "    para_tfidf = vectorizer.fit_transform(dat['paragraph'])\n",
    "    \n",
    "    return(para_tfidf)"
   ]
  },
  {
   "cell_type": "code",
   "execution_count": 188,
   "metadata": {
    "scrolled": false
   },
   "outputs": [
    {
     "name": "stderr",
     "output_type": "stream",
     "text": [
      "SettingWithCopyWarning: \n",
      "A value is trying to be set on a copy of a slice from a DataFrame.\n",
      "Try using .loc[row_indexer,col_indexer] = value instead\n",
      "\n",
      "See the caveats in the documentation: http://pandas.pydata.org/pandas-docs/stable/indexing.html#indexing-view-versus-copy [ipykernel_launcher.py:2]\n"
     ]
    }
   ],
   "source": [
    "# labels from K-Means\n",
    "df_train['labels'] = km_labels\n",
    "\n",
    "# call functions to get tf-idf vectors\n",
    "para_train = divide_paragraph(df_train)\n",
    "train_tfidf = tfidf(para_train)\n",
    "\n",
    "# create a tf-idf df\n",
    "train_tfidf = pd.DataFrame(train_tfidf.toarray())\n",
    "\n",
    "# add features from df_train to tf-idf dataframe\n",
    "train_tfidf['text_len'] = para_train['text_len']\n",
    "train_tfidf['para_len'] = para_train['para_len']\n",
    "train_tfidf['category'] = para_train['category']\n",
    "train_tfidf['labels'] = para_train['labels']"
   ]
  },
  {
   "cell_type": "markdown",
   "metadata": {},
   "source": [
    "#### Prepare to Model for tf-idf"
   ]
  },
  {
   "cell_type": "code",
   "execution_count": 189,
   "metadata": {
    "collapsed": true
   },
   "outputs": [],
   "source": [
    "# split tf-idf vectorizers into training/test sets\n",
    "Y = train_tfidf['category']\n",
    "X = np.array(train_tfidf.drop(['category'], 1))"
   ]
  },
  {
   "cell_type": "code",
   "execution_count": 193,
   "metadata": {},
   "outputs": [
    {
     "name": "stdout",
     "output_type": "stream",
     "text": [
      "Percent variance captured by all components: 59.7874105131\n"
     ]
    }
   ],
   "source": [
    "# SVD data reducer, aim to have around 80% variance explained\n",
    "svd = TruncatedSVD(500)      \n",
    "lsa = make_pipeline(svd, Normalizer(copy=False))\n",
    "\n",
    "# run SVD on the training data, then project the training data.\n",
    "X_lsa = lsa.fit_transform(X)\n",
    "Y_lsa = Y\n",
    "\n",
    "variance_explained = svd.explained_variance_ratio_\n",
    "total_variance = variance_explained.sum()\n",
    "print(\"Percent variance captured by all components:\", total_variance * 100)"
   ]
  },
  {
   "cell_type": "markdown",
   "metadata": {},
   "source": [
    "    Note: add number of features SVD produce will cause the program to be slower"
   ]
  },
  {
   "cell_type": "markdown",
   "metadata": {},
   "source": [
    "##### Random Forest"
   ]
  },
  {
   "cell_type": "code",
   "execution_count": 194,
   "metadata": {},
   "outputs": [
    {
     "name": "stdout",
     "output_type": "stream",
     "text": [
      "Training set score: 0.996625042187\n"
     ]
    }
   ],
   "source": [
    "# tf-idf \n",
    "rfc = ensemble.RandomForestClassifier()\n",
    "train = rfc.fit(X_lsa, Y_lsa)\n",
    "\n",
    "print('Training set score:', rfc.score(X_lsa, Y_lsa))"
   ]
  },
  {
   "cell_type": "markdown",
   "metadata": {},
   "source": [
    "##### Logistic Regression"
   ]
  },
  {
   "cell_type": "code",
   "execution_count": 195,
   "metadata": {},
   "outputs": [
    {
     "name": "stdout",
     "output_type": "stream",
     "text": [
      "Training set score: 0.880064657087\n"
     ]
    }
   ],
   "source": [
    "# tf-idf \n",
    "lr = LogisticRegression()\n",
    "train = lr.fit(X_lsa, Y_lsa)\n",
    "\n",
    "print('Training set score:', lr.score(X_lsa, Y_lsa))"
   ]
  },
  {
   "cell_type": "markdown",
   "metadata": {},
   "source": [
    "##### Gradient Boost   (takes too long)"
   ]
  },
  {
   "cell_type": "code",
   "execution_count": 196,
   "metadata": {},
   "outputs": [
    {
     "name": "stdout",
     "output_type": "stream",
     "text": [
      "Training set score: 0.971081940423\n"
     ]
    }
   ],
   "source": [
    "# tf-idf \n",
    "clf = ensemble.GradientBoostingClassifier()\n",
    "train = clf.fit(X_lsa, Y_lsa)\n",
    "\n",
    "print('Training set score:', clf.score(X_lsa, Y_lsa))"
   ]
  },
  {
   "cell_type": "markdown",
   "metadata": {},
   "source": [
    "### Test Holdout Group"
   ]
  },
  {
   "cell_type": "code",
   "execution_count": 197,
   "metadata": {
    "collapsed": true
   },
   "outputs": [],
   "source": [
    "# extract text len and para len for cluster\n",
    "# reset the index for df_test\n",
    "df_test.reset_index(drop = ['index'], inplace = True)\n",
    "df_cluster = df_test.loc[:, df_test.columns.isin(['text_len', 'para_len'])]"
   ]
  },
  {
   "cell_type": "code",
   "execution_count": 198,
   "metadata": {},
   "outputs": [
    {
     "data": {
      "image/png": "[encoded data removed]",
      "text/plain": [
       "<matplotlib.figure.Figure at 0x26be46ea048>"
      ]
     },
     "metadata": {},
     "output_type": "display_data"
    }
   ],
   "source": [
    "# declare and fit model\n",
    "km = KMeans(n_clusters = 3).fit(df_cluster.values)\n",
    "\n",
    "# extract cluster assignments for data points\n",
    "km_labels = km.labels_\n",
    "km_cluster_centers = km.cluster_centers_\n",
    "\n",
    "# Plot the solution.\n",
    "plt.scatter(df_cluster.values[:, 0], df_cluster.values[:, 1], c = km_labels)\n",
    "plt.show()"
   ]
  },
  {
   "cell_type": "code",
   "execution_count": 199,
   "metadata": {},
   "outputs": [
    {
     "name": "stdout",
     "output_type": "stream",
     "text": [
      "Check the prediction for KMeans:\n",
      "col_0   0  1  2\n",
      "row_0          \n",
      "0      15  0  0\n",
      "1       0  4  0\n",
      "2       0  1  5\n"
     ]
    }
   ],
   "source": [
    "# check the predictions for KMeans\n",
    "km_pred = km.fit_predict(df_cluster.values)\n",
    "\n",
    "print('Check the prediction for KMeans:')\n",
    "print(pd.crosstab(km_labels, km_pred))"
   ]
  },
  {
   "cell_type": "markdown",
   "metadata": {},
   "source": [
    "#### tf-idf for holdout group"
   ]
  },
  {
   "cell_type": "code",
   "execution_count": 200,
   "metadata": {},
   "outputs": [
    {
     "name": "stderr",
     "output_type": "stream",
     "text": [
      "SettingWithCopyWarning: \n",
      "A value is trying to be set on a copy of a slice from a DataFrame.\n",
      "Try using .loc[row_indexer,col_indexer] = value instead\n",
      "\n",
      "See the caveats in the documentation: http://pandas.pydata.org/pandas-docs/stable/indexing.html#indexing-view-versus-copy [ipykernel_launcher.py:2]\n"
     ]
    }
   ],
   "source": [
    "# create a feature for labels\n",
    "df_test['labels'] = km_labels\n",
    "\n",
    "# call functions to get tf-idf vectors\n",
    "para_test = divide_paragraph(df_test)\n",
    "test_tfidf = tfidf(para_test)\n",
    "\n",
    "# create a tf-idf df\n",
    "test_tfidf = pd.DataFrame(test_tfidf.toarray())\n",
    "\n",
    "# add features from df_train to tf-idf dataframe\n",
    "test_tfidf['text_len'] = para_test['text_len']\n",
    "test_tfidf['para_len'] = para_test['para_len']\n",
    "test_tfidf['category'] = para_test['category']\n",
    "test_tfidf['labels'] = para_test['labels']"
   ]
  },
  {
   "cell_type": "markdown",
   "metadata": {},
   "source": [
    "#### Prepare to Model Holdout Groups"
   ]
  },
  {
   "cell_type": "code",
   "execution_count": 201,
   "metadata": {
    "collapsed": true
   },
   "outputs": [],
   "source": [
    "# split tf-idf vectorizers into training/test sets\n",
    "Y = test_tfidf['category']\n",
    "X = np.array(test_tfidf.drop(['category'], 1))"
   ]
  },
  {
   "cell_type": "code",
   "execution_count": 202,
   "metadata": {},
   "outputs": [
    {
     "name": "stdout",
     "output_type": "stream",
     "text": [
      "Percent variance captured by all components: 85.9787377865\n"
     ]
    }
   ],
   "source": [
    "# run SVD on the test data, then project the training data.\n",
    "X_lsa = lsa.fit_transform(X)\n",
    "Y_lsa = Y\n",
    "\n",
    "variance_explained = svd.explained_variance_ratio_\n",
    "total_variance = variance_explained.sum()\n",
    "print(\"Percent variance captured by all components:\", total_variance * 100)"
   ]
  },
  {
   "cell_type": "markdown",
   "metadata": {},
   "source": [
    "##### Random Forest"
   ]
  },
  {
   "cell_type": "code",
   "execution_count": 203,
   "metadata": {},
   "outputs": [
    {
     "name": "stdout",
     "output_type": "stream",
     "text": [
      "Holdout test score: 0.606990543297\n"
     ]
    }
   ],
   "source": [
    "# tf-idf for holdout group\n",
    "print('Holdout test score:', rfc.score(X_lsa, Y_lsa))"
   ]
  },
  {
   "cell_type": "markdown",
   "metadata": {},
   "source": [
    "##### Logistic Regression"
   ]
  },
  {
   "cell_type": "code",
   "execution_count": 204,
   "metadata": {},
   "outputs": [
    {
     "name": "stdout",
     "output_type": "stream",
     "text": [
      "Holdout test  score: 0.472649731133\n"
     ]
    }
   ],
   "source": [
    "# tf-idf for holdout group\n",
    "print('Holdout test  score:', lr.score(X_lsa, Y_lsa))"
   ]
  },
  {
   "cell_type": "markdown",
   "metadata": {},
   "source": [
    "##### Gradient Boost"
   ]
  },
  {
   "cell_type": "code",
   "execution_count": 205,
   "metadata": {},
   "outputs": [
    {
     "name": "stdout",
     "output_type": "stream",
     "text": [
      "Holdout test score: 0.638049323197\n"
     ]
    }
   ],
   "source": [
    "# tf-idf for holdout group\n",
    "print('Holdout test score:', clf.score(X_lsa, Y_lsa))"
   ]
  },
  {
   "cell_type": "markdown",
   "metadata": {},
   "source": [
    "### Cross Validate using all_sample data"
   ]
  },
  {
   "cell_type": "code",
   "execution_count": 206,
   "metadata": {
    "collapsed": true
   },
   "outputs": [],
   "source": [
    "# extract text len and para len for cluster\n",
    "# reset the index for df_test\n",
    "all_sample.reset_index(drop = ['index'], inplace = True)\n",
    "df_cluster = all_sample.loc[:, all_sample.columns.isin(['text_len', 'para_len'])]"
   ]
  },
  {
   "cell_type": "code",
   "execution_count": 207,
   "metadata": {},
   "outputs": [
    {
     "data": {
      "image/png": "[encoded data removed]",
      "text/plain": [
       "<matplotlib.figure.Figure at 0x26be46a7cc0>"
      ]
     },
     "metadata": {},
     "output_type": "display_data"
    }
   ],
   "source": [
    "# declare and fit model\n",
    "km = KMeans(n_clusters = 3).fit(df_cluster.values)\n",
    "\n",
    "# extract cluster assignments for data points\n",
    "km_labels = km.labels_\n",
    "km_cluster_centers = km.cluster_centers_\n",
    "\n",
    "# Plot the solution.\n",
    "plt.scatter(df_cluster.values[:, 0], df_cluster.values[:, 1], c = km_labels)\n",
    "plt.show()"
   ]
  },
  {
   "cell_type": "code",
   "execution_count": 208,
   "metadata": {},
   "outputs": [
    {
     "name": "stdout",
     "output_type": "stream",
     "text": [
      "Check the prediction for KMeans:\n",
      "col_0   0   1   2\n",
      "row_0            \n",
      "0      44   0   0\n",
      "1       0   0  24\n",
      "2       0  32   0\n"
     ]
    }
   ],
   "source": [
    "# check the predictions for KMeans\n",
    "km_pred = km.fit_predict(df_cluster.values)\n",
    "\n",
    "print('Check the prediction for KMeans:')\n",
    "print(pd.crosstab(km_labels, km_pred))"
   ]
  },
  {
   "cell_type": "markdown",
   "metadata": {},
   "source": [
    "#### tf-idf for holdout group"
   ]
  },
  {
   "cell_type": "code",
   "execution_count": 209,
   "metadata": {
    "collapsed": true
   },
   "outputs": [],
   "source": [
    "# create a feature for labels\n",
    "all_sample['labels'] = km_labels\n",
    "\n",
    "# call functions to get tf-idf vectors\n",
    "all_sample_para = divide_paragraph(all_sample)\n",
    "all_sample_tfidf = tfidf(all_sample_para)\n",
    "\n",
    "# create a tf-idf df\n",
    "all_sample_tfidf = pd.DataFrame(all_sample_tfidf.toarray())\n",
    "\n",
    "# add features from df_train to tf-idf dataframe\n",
    "all_sample_tfidf['text_len'] = all_sample_para['text_len']\n",
    "all_sample_tfidf['para_len'] = all_sample_para['para_len']\n",
    "all_sample_tfidf['category'] = all_sample_para['category']\n",
    "all_sample_tfidf['labels'] = all_sample_para['labels']"
   ]
  },
  {
   "cell_type": "markdown",
   "metadata": {},
   "source": [
    "#### Prepare to Model Holdout Groups"
   ]
  },
  {
   "cell_type": "code",
   "execution_count": 210,
   "metadata": {
    "collapsed": true
   },
   "outputs": [],
   "source": [
    "# split tf-idf vectorizers into training/test sets\n",
    "Y = all_sample_tfidf['category']\n",
    "X = np.array(all_sample_tfidf.drop(['category'], 1))"
   ]
  },
  {
   "cell_type": "code",
   "execution_count": 211,
   "metadata": {},
   "outputs": [
    {
     "name": "stdout",
     "output_type": "stream",
     "text": [
      "Percent variance captured by all components: 58.2641410505\n"
     ]
    }
   ],
   "source": [
    "# run SVD on the test data, then project the training data.\n",
    "X_lsa = lsa.fit_transform(X)\n",
    "Y_lsa = Y\n",
    "\n",
    "variance_explained = svd.explained_variance_ratio_\n",
    "total_variance = variance_explained.sum()\n",
    "print(\"Percent variance captured by all components:\", total_variance * 100)"
   ]
  },
  {
   "cell_type": "markdown",
   "metadata": {},
   "source": [
    "##### Random Forest"
   ]
  },
  {
   "cell_type": "code",
   "execution_count": 212,
   "metadata": {},
   "outputs": [
    {
     "name": "stdout",
     "output_type": "stream",
     "text": [
      "Holdout test score\n",
      ": [ 0.71441347  0.76671387  0.72510435  0.71601073  0.75745379]\n"
     ]
    }
   ],
   "source": [
    "# tf-idf for holdout group\n",
    "print('Holdout test score:\\n', cross_val_score(rfc, X_lsa, Y_lsa, cv = 5))"
   ]
  },
  {
   "cell_type": "markdown",
   "metadata": {},
   "source": [
    "##### Logistic Regression"
   ]
  },
  {
   "cell_type": "code",
   "execution_count": 213,
   "metadata": {},
   "outputs": [
    {
     "name": "stdout",
     "output_type": "stream",
     "text": [
      "Holdout test  score\n",
      ": [ 0.70353257  0.86710889  0.75268336  0.85360763  0.79248658]\n"
     ]
    }
   ],
   "source": [
    "# tf-idf for holdout group\n",
    "print('Holdout test  score:\\n', cross_val_score(lr, X_lsa, Y_lsa, cv = 5))"
   ]
  },
  {
   "cell_type": "markdown",
   "metadata": {},
   "source": [
    "##### Gradient Boost"
   ]
  },
  {
   "cell_type": "code",
   "execution_count": 214,
   "metadata": {},
   "outputs": [
    {
     "name": "stdout",
     "output_type": "stream",
     "text": [
      "Holdout test score\n",
      ": [ 0.49254732  0.77848998  0.85554562  0.62477639  0.71847048]\n"
     ]
    }
   ],
   "source": [
    "# tf-idf for holdout group\n",
    "print('Holdout test score:\\n', cross_val_score(clf, X_lsa, Y_lsa, cv = 5))"
   ]
  },
  {
   "cell_type": "code",
   "execution_count": null,
   "metadata": {
    "collapsed": true
   },
   "outputs": [],
   "source": []
  }
 ],
 "metadata": {
  "kernelspec": {
   "display_name": "Python 3",
   "language": "python",
   "name": "python3"
  },
  "language_info": {
   "codemirror_mode": {
    "name": "ipython",
    "version": 3
   },
   "file_extension": ".py",
   "mimetype": "text/x-python",
   "name": "python",
   "nbconvert_exporter": "python",
   "pygments_lexer": "ipython3",
   "version": "3.6.1"
  }
 },
 "nbformat": 4,
 "nbformat_minor": 2
}
